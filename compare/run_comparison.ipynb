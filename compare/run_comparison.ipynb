{
  "cells": [
    {
      "metadata": {},
      "cell_type": "markdown",
      "source": [
        "# Cross-Cloud Comparison Notebook",
        "",
        "This notebook loads predictions + metrics from AWS and GCP runs.",
        "It plots accuracy, ROC AUC, F1, cost, and fairness metrics side by side.",
        "",
        "",
        "Expected workflow:",
        "1. Load artifacts from aws/ and gcp/.",
        "2. Compare metrics (tables + charts).",
        "3. Save charts into compare/.",
        "4. Write summary into comparison.md.",
        "",
        "",
        "Deliverables:",
        "- Charts in compare/.",
        "- Updated comparison.md.",
        "- Screenshots for portfolio."
      ]
    }
  ],
  "metadata": {
    "kernelspec": {
      "name": "python3",
      "display_name": "Python 3",
      "language": "python"
    }
  },
  "nbformat_minor": 5,
  "nbformat": 4
}
