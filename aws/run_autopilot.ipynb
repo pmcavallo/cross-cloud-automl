{
  "cells": [
    {
      "metadata": {},
      "cell_type": "markdown",
      "source": [
        "# AWS SageMaker Autopilot — Runbook",
        "",
        "Inputs: data/train.csv, data/valid.csv, data/test.csv, data/schema/features.yaml",
        "",
        "Guardrails",
        "- Cap candidates and/or job time",
        "- Use Batch Transform for test predictions",
        "- Delete endpoints/models/datasets after runs; capture cleanup screenshots",
        "",
        "Screenshots to capture",
        "- Dataset page and job settings",
        "- Leaderboard and best model",
        "- Feature importance/SHAP",
        "- Evaluation metrics",
        "- Cleanup confirmation",
        "",
        "Steps",
        "1. Upload train/valid/test to S3 (same bucket/prefix).",
        "2. Create Autopilot job (target=default_12m, problem=Binary).",
        "3. Set budget caps (candidates/time) and run.",
        "4. Export predictions and evaluation metrics to artifacts/.",
        "5. Take the screenshots listed above.",
        "6. Delete resources (keep screenshots + metrics)."
      ]
    }
  ],
  "metadata": {
    "kernelspec": {
      "name": "python3",
      "display_name": "Python 3",
      "language": "python"
    }
  },
  "nbformat_minor": 5,
  "nbformat": 4
}
