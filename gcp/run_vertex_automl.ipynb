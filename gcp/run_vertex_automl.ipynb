{
  "cells": [
    {
      "metadata": {},
      "cell_type": "markdown",
      "source": [
        "# GCP Vertex AI AutoML — Runbook",
        "",
        "Inputs: data/train.csv, data/valid.csv, data/test.csv, data/schema/features.yaml",
        "",
        "Guardrails",
        "- Cap milli-node-hours",
        "- Enable early stopping",
        "- Use Batch Prediction for test set",
        "- Delete endpoints/models/datasets after runs; capture cleanup screenshots",
        "",
        "Screenshots to capture",
        "- Dataset/import and training config",
        "- Leaderboard and best model",
        "- Global importance / Explainable AI",
        "- Evaluation metrics",
        "- Cleanup confirmation",
        "",
        "Steps",
        "1. Upload train/valid/test to GCS (same bucket/prefix).",
        "2. Create a Vertex AutoML Tables training job (target=default_12m).",
        "3. Set budget (mNH) + early stopping; run.",
        "4. Export predictions/metrics to artifacts/.",
        "5. Take the screenshots listed above.",
        "6. Delete resources (keep screenshots + metrics)."
      ]
    }
  ],
  "metadata": {
    "kernelspec": {
      "name": "python3",
      "display_name": "Python 3",
      "language": "python"
    }
  },
  "nbformat_minor": 5,
  "nbformat": 4
}
